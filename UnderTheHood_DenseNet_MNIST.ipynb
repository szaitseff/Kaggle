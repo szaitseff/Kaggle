{
  "cells": [
    {
      "metadata": {
        "_uuid": "65069ba70a42dec77013a5278dddeb1efff9df92"
      },
      "cell_type": "markdown",
      "source": "# 0. Description"
    },
    {
      "metadata": {
        "_uuid": "741b7c196e4b7d053ac7a08bbe2f4379a13a2922"
      },
      "cell_type": "markdown",
      "source": "Hi! I concieved of the ___Under the Hood___ series of Kaggle kernels as part of my machine learning training. The idea is to implement popular machine learning models in Python/Numpy and compare their performance against a benchmark, i.e. a similar model in the machine learning libraries like Scikit-learn or Keras. I agree with Andrej Karpathy who wrote in his [blog](http://karpathy.github.io/neuralnets/) : \"...everything became much clearer when I started writing code.\" \n\nThis kernel is dedicated to the ___Dense Neural Network___ (aka fully connected network) applied to the __MNIST__ dataset. We have the following __challenges__: \nfor an adjustable network architecture implement model with He initialization, forward propagation with ReLU activation and dropout regularization in the hidden layers and Softmax activation in the output layer, cross-entropy cost function with L2 regularization, backpropagation and parameters update with stochastic gradient descent and Adam optimizer, and finally prediction of classificaton labels after learning the model for various hyperparameters. If compared to the __Titanic__ dataset, there are more features (pixels) in the input, and therefore we can try larger hidden layers size (512 in this kernel).\n \nAny feedback or ideas are welcome."
    },
    {
      "metadata": {
        "_uuid": "8f2839f25d086af736a60e9eeb907d3b93b6e0e5",
        "_cell_guid": "b1076dfc-b9ad-4769-8c92-a6c4dae69d19",
        "trusted": true
      },
      "cell_type": "code",
      "source": "# Load necessary libraries\nimport numpy as np # linear algebra\nimport pandas as pd # data processing, CSV file I/O (e.g. pd.read_csv)\nimport matplotlib.pyplot as plt  # data visualization\n%matplotlib inline\n\nfrom sklearn.model_selection import train_test_split\nfrom keras.utils.np_utils import to_categorical # to convert to one-hot-encoding\nfrom keras.models import Sequential\nfrom keras.layers import Flatten, Dense, Dropout\nfrom keras.optimizers import Adam, RMSprop\nfrom keras.preprocessing.image import ImageDataGenerator\nfrom keras.callbacks import ReduceLROnPlateau\nfrom keras.regularizers import l2",
      "execution_count": 1,
      "outputs": [
        {
          "output_type": "stream",
          "text": "/opt/conda/lib/python3.6/site-packages/h5py/__init__.py:36: FutureWarning: Conversion of the second argument of issubdtype from `float` to `np.floating` is deprecated. In future, it will be treated as `np.float64 == np.dtype(float).type`.\n  from ._conv import register_converters as _register_converters\nUsing TensorFlow backend.\n",
          "name": "stderr"
        }
      ]
    },
    {
      "metadata": {
        "trusted": true,
        "collapsed": true,
        "_uuid": "dbf552bd663d81348eee7859bf5a54b3ef48162e"
      },
      "cell_type": "markdown",
      "source": "## 1. MNIST DATA"
    },
    {
      "metadata": {
        "trusted": true,
        "_uuid": "d7512437115d5f0e0f06de283dc0f34cb3e9107a",
        "collapsed": true
      },
      "cell_type": "code",
      "source": "# Load datasets\ntrain, test = pd.read_csv(\"../input/train.csv\"), pd.read_csv(\"../input/test.csv\")",
      "execution_count": 2,
      "outputs": []
    },
    {
      "metadata": {
        "trusted": true,
        "_uuid": "f60b8ede01f0ac1d54e80c9579849a3295354d92"
      },
      "cell_type": "code",
      "source": "# Review data\nprint(f'train data shape = {train.shape}', '/', f'test data shape = {test.shape}')\ntrain.head()",
      "execution_count": 3,
      "outputs": [
        {
          "output_type": "stream",
          "text": "train data shape = (42000, 785) / test data shape = (28000, 784)\n",
          "name": "stdout"
        },
        {
          "output_type": "execute_result",
          "execution_count": 3,
          "data": {
            "text/plain": "   label  pixel0  pixel1  pixel2  pixel3  pixel4  pixel5  pixel6  pixel7  \\\n0      1       0       0       0       0       0       0       0       0   \n1      0       0       0       0       0       0       0       0       0   \n2      1       0       0       0       0       0       0       0       0   \n3      4       0       0       0       0       0       0       0       0   \n4      0       0       0       0       0       0       0       0       0   \n\n   pixel8    ...     pixel774  pixel775  pixel776  pixel777  pixel778  \\\n0       0    ...            0         0         0         0         0   \n1       0    ...            0         0         0         0         0   \n2       0    ...            0         0         0         0         0   \n3       0    ...            0         0         0         0         0   \n4       0    ...            0         0         0         0         0   \n\n   pixel779  pixel780  pixel781  pixel782  pixel783  \n0         0         0         0         0         0  \n1         0         0         0         0         0  \n2         0         0         0         0         0  \n3         0         0         0         0         0  \n4         0         0         0         0         0  \n\n[5 rows x 785 columns]",
            "text/html": "<div>\n<style scoped>\n    .dataframe tbody tr th:only-of-type {\n        vertical-align: middle;\n    }\n\n    .dataframe tbody tr th {\n        vertical-align: top;\n    }\n\n    .dataframe thead th {\n        text-align: right;\n    }\n</style>\n<table border=\"1\" class=\"dataframe\">\n  <thead>\n    <tr style=\"text-align: right;\">\n      <th></th>\n      <th>label</th>\n      <th>pixel0</th>\n      <th>pixel1</th>\n      <th>pixel2</th>\n      <th>pixel3</th>\n      <th>pixel4</th>\n      <th>pixel5</th>\n      <th>pixel6</th>\n      <th>pixel7</th>\n      <th>pixel8</th>\n      <th>...</th>\n      <th>pixel774</th>\n      <th>pixel775</th>\n      <th>pixel776</th>\n      <th>pixel777</th>\n      <th>pixel778</th>\n      <th>pixel779</th>\n      <th>pixel780</th>\n      <th>pixel781</th>\n      <th>pixel782</th>\n      <th>pixel783</th>\n    </tr>\n  </thead>\n  <tbody>\n    <tr>\n      <th>0</th>\n      <td>1</td>\n      <td>0</td>\n      <td>0</td>\n      <td>0</td>\n      <td>0</td>\n      <td>0</td>\n      <td>0</td>\n      <td>0</td>\n      <td>0</td>\n      <td>0</td>\n      <td>...</td>\n      <td>0</td>\n      <td>0</td>\n      <td>0</td>\n      <td>0</td>\n      <td>0</td>\n      <td>0</td>\n      <td>0</td>\n      <td>0</td>\n      <td>0</td>\n      <td>0</td>\n    </tr>\n    <tr>\n      <th>1</th>\n      <td>0</td>\n      <td>0</td>\n      <td>0</td>\n      <td>0</td>\n      <td>0</td>\n      <td>0</td>\n      <td>0</td>\n      <td>0</td>\n      <td>0</td>\n      <td>0</td>\n      <td>...</td>\n      <td>0</td>\n      <td>0</td>\n      <td>0</td>\n      <td>0</td>\n      <td>0</td>\n      <td>0</td>\n      <td>0</td>\n      <td>0</td>\n      <td>0</td>\n      <td>0</td>\n    </tr>\n    <tr>\n      <th>2</th>\n      <td>1</td>\n      <td>0</td>\n      <td>0</td>\n      <td>0</td>\n      <td>0</td>\n      <td>0</td>\n      <td>0</td>\n      <td>0</td>\n      <td>0</td>\n      <td>0</td>\n      <td>...</td>\n      <td>0</td>\n      <td>0</td>\n      <td>0</td>\n      <td>0</td>\n      <td>0</td>\n      <td>0</td>\n      <td>0</td>\n      <td>0</td>\n      <td>0</td>\n      <td>0</td>\n    </tr>\n    <tr>\n      <th>3</th>\n      <td>4</td>\n      <td>0</td>\n      <td>0</td>\n      <td>0</td>\n      <td>0</td>\n      <td>0</td>\n      <td>0</td>\n      <td>0</td>\n      <td>0</td>\n      <td>0</td>\n      <td>...</td>\n      <td>0</td>\n      <td>0</td>\n      <td>0</td>\n      <td>0</td>\n      <td>0</td>\n      <td>0</td>\n      <td>0</td>\n      <td>0</td>\n      <td>0</td>\n      <td>0</td>\n    </tr>\n    <tr>\n      <th>4</th>\n      <td>0</td>\n      <td>0</td>\n      <td>0</td>\n      <td>0</td>\n      <td>0</td>\n      <td>0</td>\n      <td>0</td>\n      <td>0</td>\n      <td>0</td>\n      <td>0</td>\n      <td>...</td>\n      <td>0</td>\n      <td>0</td>\n      <td>0</td>\n      <td>0</td>\n      <td>0</td>\n      <td>0</td>\n      <td>0</td>\n      <td>0</td>\n      <td>0</td>\n      <td>0</td>\n    </tr>\n  </tbody>\n</table>\n<p>5 rows × 785 columns</p>\n</div>"
          },
          "metadata": {}
        }
      ]
    },
    {
      "metadata": {
        "trusted": true,
        "_uuid": "68dd04b9c99fea496ff5d8bf555a8e491fab76ac"
      },
      "cell_type": "code",
      "source": "# let's check the count of different labels in the dataset (~balanced)\ntrain['label'].value_counts()",
      "execution_count": 4,
      "outputs": [
        {
          "output_type": "execute_result",
          "execution_count": 4,
          "data": {
            "text/plain": "1    4684\n7    4401\n3    4351\n9    4188\n2    4177\n6    4137\n0    4132\n4    4072\n8    4063\n5    3795\nName: label, dtype: int64"
          },
          "metadata": {}
        }
      ]
    },
    {
      "metadata": {
        "trusted": true,
        "_uuid": "6b06102607ec76c9516c2782823afbbe951788c5"
      },
      "cell_type": "code",
      "source": "# Numpy representation of the train and test data:\ntrain_pixels, test_pixels = train.iloc[:,1:].values.astype('float32'), test.values.astype('float32') # all pixel values\ntrain_labels = train.iloc[:,0].values.astype('int32') # only labels i.e targets digits\ntrain_labels = train_labels.reshape(-1, 1) # ensure proper shape of the array\n\nprint(f'train_pixels shape = {train_pixels.shape}')\nprint(f'test_pixels shape = {test_pixels.shape}')\nprint(f'train_labels shape = {train_labels.shape}')",
      "execution_count": 5,
      "outputs": [
        {
          "output_type": "stream",
          "text": "train_pixels shape = (42000, 784)\ntest_pixels shape = (28000, 784)\ntrain_labels shape = (42000, 1)\n",
          "name": "stdout"
        }
      ]
    },
    {
      "metadata": {
        "trusted": true,
        "_uuid": "960c6a5b844995fe12aa74d548893785d1d4382d"
      },
      "cell_type": "code",
      "source": "# Reshape input data to fit Keras model (height=28px, width=28px, channels=1):\ntrain_pixels, test_pixels = train_pixels.reshape(-1, 28, 28, 1), test_pixels.reshape(-1, 28, 28, 1)\nprint(f'train_pixels shape = {train_pixels.shape}')\nprint(f'test_pixels shape = {test_pixels.shape}')",
      "execution_count": 6,
      "outputs": [
        {
          "output_type": "stream",
          "text": "train_pixels shape = (42000, 28, 28, 1)\ntest_pixels shape = (28000, 28, 28, 1)\n",
          "name": "stdout"
        }
      ]
    },
    {
      "metadata": {
        "trusted": true,
        "_uuid": "6caf10e515af9325cc2ed5715c65cdf53fc8f42a",
        "scrolled": true
      },
      "cell_type": "code",
      "source": "# Visualize some images from the dataset:\nnrows, ncols = 3, 5  # number of rows and colums in subplots\nfig, ax = plt.subplots(nrows, ncols, sharex=True, sharey=True, figsize=(8,5))\nfor row in range(nrows):\n    for col in range(ncols):\n        i = np.random.randint(0, 30000)  # pick up arbitrary examples\n        ax[row, col].imshow(train_pixels[i,:,:,0], cmap='Greys')\n        ax[row, col].set_title(f'<{train.label[i]}>');",
      "execution_count": 7,
      "outputs": [
        {
          "output_type": "display_data",
          "data": {
            "text/plain": "<matplotlib.figure.Figure at 0x7faf892ce0b8>",
            "image/png": "[encoded data removed]"
          },
          "metadata": {}
        }
      ]
    },
    {
      "metadata": {
        "trusted": true,
        "_uuid": "56c89842676b38c6a589ebafec48748765c3dfcf",
        "collapsed": true
      },
      "cell_type": "code",
      "source": "# Input data are greyscale pixels of intensity [0:255]. Let's normalize to [0:1]:\ntrain_pixels, test_pixels = train_pixels / 255.0, test_pixels / 255.0",
      "execution_count": 8,
      "outputs": []
    },
    {
      "metadata": {
        "trusted": true,
        "_uuid": "b1b60ab298ae8fd9e7a5ed6564516c2a89e3733a"
      },
      "cell_type": "code",
      "source": "# Encode labels to one hot vectors (ex : 2 -> [0,0,1,0,0,0,0,0,0,0])\ntrain_labels = to_categorical(train_labels, num_classes = 10)\nprint(f'train_labels shape = {train_labels.shape}')\ntrain_labels",
      "execution_count": 9,
      "outputs": [
        {
          "output_type": "stream",
          "text": "train_labels shape = (42000, 10)\n",
          "name": "stdout"
        },
        {
          "output_type": "execute_result",
          "execution_count": 9,
          "data": {
            "text/plain": "array([[0., 1., 0., ..., 0., 0., 0.],\n       [1., 0., 0., ..., 0., 0., 0.],\n       [0., 1., 0., ..., 0., 0., 0.],\n       ...,\n       [0., 0., 0., ..., 1., 0., 0.],\n       [0., 0., 0., ..., 0., 0., 0.],\n       [0., 0., 0., ..., 0., 0., 1.]])"
          },
          "metadata": {}
        }
      ]
    },
    {
      "metadata": {
        "trusted": true,
        "_uuid": "6cd9b63d7053c8415b08740d73f5f44cab6b2ca7"
      },
      "cell_type": "code",
      "source": "# Split training and validation set for the fitting\ntrain_pixels, val_pixels, train_labels, val_labels = train_test_split(train_pixels, train_labels, test_size = 0.1, random_state=2)\n\ntrain_pixels.shape, train_labels.shape, val_pixels.shape, val_labels.shape, test_pixels.shape",
      "execution_count": 10,
      "outputs": [
        {
          "output_type": "execute_result",
          "execution_count": 10,
          "data": {
            "text/plain": "((37800, 28, 28, 1),\n (37800, 10),\n (4200, 28, 28, 1),\n (4200, 10),\n (28000, 28, 28, 1))"
          },
          "metadata": {}
        }
      ]
    },
    {
      "metadata": {
        "trusted": true,
        "_uuid": "c5169f7d244c26c8200b08efe656c2a437cb096a"
      },
      "cell_type": "code",
      "source": "# let's fix the important numbers for further modeling:\nm_train = train_pixels.shape[0]   # number of examples in the training set\nm_val = val_pixels.shape[0]       # number of examples in the validation set\nm_test = test_pixels.shape[0]     # number of examples in the test set\nn_x = test.shape[1]               # input size, number of pixels in the image\nn_y = train_labels.shape[1]       # output size, number of label classes\nprint(f\" m_train = {m_train} / m_val = {m_val} / m_test = {m_test} / n_x = {n_x} / n_y = {n_y}\")",
      "execution_count": 11,
      "outputs": [
        {
          "output_type": "stream",
          "text": " m_train = 37800 / m_val = 4200 / m_test = 28000 / n_x = 784 / n_y = 10\n",
          "name": "stdout"
        }
      ]
    },
    {
      "metadata": {
        "_uuid": "01a1775d75c696511bc0c49c3c6f8471a9a8da4f"
      },
      "cell_type": "markdown",
      "source": "## 2. A DENSE NEURAL NETWORK IN KERAS"
    },
    {
      "metadata": {
        "trusted": true,
        "_uuid": "c7f3917252f075f8ffe60f7c43ce4dede1d5bf9b",
        "collapsed": true
      },
      "cell_type": "code",
      "source": "# Decide on the model architecture: [n_x, hidden_layers, n_y]\nlayer_dims = [n_x, 512, n_y]  # the model architecture is adjustable",
      "execution_count": 12,
      "outputs": []
    },
    {
      "metadata": {
        "trusted": true,
        "_uuid": "dc83c21b61ea3b543d1b6f018e0f2095ec7f3f3a"
      },
      "cell_type": "code",
      "source": "# create an instance of a neural network:\nk_model = Sequential()\n# the first hidden layer must have input dimensions:\nk_model.add(Flatten(input_shape=[28,28,1]))\nk_model.add(Dense(layer_dims[1], activation='relu',\n                  kernel_regularizer=l2(0)))\nk_model.add(Dropout(0.25))\n# additional hidden layers are optional\n# output layer w/softmax activation:\nk_model.add(Dense(n_y, activation='softmax',\n                  kernel_regularizer=l2(0)))\n\n# Compile the model w/Adam optimizer:\nk_model.compile(optimizer=Adam(lr=1e-2),\n                loss='categorical_crossentropy',\n                metrics=['accuracy'])\n\n# Define a learning rate decay method:\nlr_decay = ReduceLROnPlateau(monitor='loss', \n                             patience=1, verbose=0, \n                             factor=0.5, min_lr=1e-6)\n# Train the model:\nk_model.fit(train_pixels, train_labels, epochs=30, batch_size=128,\n            callbacks=[lr_decay], verbose=0)\n\n# Evaluate the model:\nk_train_loss, k_train_acc = k_model.evaluate(train_pixels, train_labels)\nk_val_loss, k_val_acc = k_model.evaluate(val_pixels, val_labels)\n\nprint(f'k_model: train accuracy = {round(k_train_acc * 100, 4)}%')\nprint(f'k_model: val accuracy = {round(k_val_acc * 100, 4)}%')\nprint(f'k_model: val error = {round((1 - k_val_acc) * m_val)} examples')\n",
      "execution_count": 20,
      "outputs": [
        {
          "output_type": "stream",
          "text": "37800/37800 [==============================] - 2s 62us/step\n4200/4200 [==============================] - 0s 62us/step\nk_model: train accuracy = 99.9894%\nk_model: val accuracy = 98.1905%\nk_model: val error = 76.0 examples\n",
          "name": "stdout"
        }
      ]
    },
    {
      "metadata": {
        "_uuid": "26043c058ef21042c6904b13f67eae090b1dde54"
      },
      "cell_type": "markdown",
      "source": "## 3. A CUSTOM NEURAL NETWORK IN PYTHON/NUMPY (classification)"
    },
    {
      "metadata": {
        "trusted": true,
        "collapsed": true,
        "_uuid": "f97ea283c78102ddf6cce0ee8acc0695e40585d4"
      },
      "cell_type": "markdown",
      "source": "Let's have a look \"under the hood\" at a similar model in Python/Numpy and appreciate the greatness of Keras :)"
    },
    {
      "metadata": {
        "_uuid": "03a534e0682b05f855ba4f6f7daf64199c04e07e"
      },
      "cell_type": "markdown",
      "source": "### 3.1 Reshape data and define mini-batches"
    },
    {
      "metadata": {
        "trusted": true,
        "_uuid": "bfec56b49c612bead60b5ea36fab2bba84cf84d7"
      },
      "cell_type": "code",
      "source": "# Reshape data to fit the Custom Model architecture: (n_pixels, m_examples)\nX_train = train_pixels.reshape(m_train, -1).T\nY_train = train_labels.T\nX_val   = val_pixels.reshape(m_val,-1).T\nY_val   = val_labels.T\nX_test  = test_pixels.reshape(m_test, -1).T\n\nX_train.shape, Y_train.shape, X_val.shape, Y_val.shape, X_test.shape",
      "execution_count": 14,
      "outputs": [
        {
          "output_type": "execute_result",
          "execution_count": 14,
          "data": {
            "text/plain": "((784, 37800), (10, 37800), (784, 4200), (10, 4200), (784, 28000))"
          },
          "metadata": {}
        }
      ]
    },
    {
      "metadata": {
        "trusted": true,
        "_uuid": "a33497c7eb7b156483f9f19580a76a28bc430819",
        "collapsed": true
      },
      "cell_type": "code",
      "source": "# Define a function to create random mini-batches for the gradient descent:\ndef random_mini_batches(X, Y, batch_size):\n    \"\"\"\n    This funcion creates a list of random minibatches from (X, Y)\n    Arguments:\n        X -- input data, of shape (input size, number of examples)\n        Y -- \"true\" labels vector, of shape (output size, number of examples)\n        batch_size -- size of mini-batches, integer\n    Returns:\n        mini_batches -- list of synchronous (mini_batch_X, mini_batch_Y)\n    \"\"\"\n    m = X.shape[1]              # number of examples\n    mini_batches = []           # initialize a list to contain all minibatches\n        \n    # Shuffle (X, Y)\n    permutation = list(np.random.permutation(m))\n    shuffled_X = X[:, permutation]\n    shuffled_Y = Y[:, permutation]\n\n    # Partition (shuffled_X, shuffled_Y). Minus the end case.\n    num_complete_minibatches = m // batch_size # number of minibatches of size batch_size\n    for k in range(0, num_complete_minibatches):\n        mini_batch_X = shuffled_X[:, k*batch_size:(k+1)*batch_size]\n        mini_batch_Y = shuffled_Y[:, k*batch_size:(k+1)*batch_size]\n        mini_batch = (mini_batch_X, mini_batch_Y)\n        mini_batches.append(mini_batch)\n    \n    # Handling the end case (last mini-batch < mini_batch_size)\n    if m_train % batch_size != 0:\n        mini_batch_X = shuffled_X[:, num_complete_minibatches*batch_size:]\n        mini_batch_Y = shuffled_Y[:, num_complete_minibatches*batch_size:]\n        mini_batch = (mini_batch_X, mini_batch_Y)\n        mini_batches.append(mini_batch)\n    \n    return mini_batches",
      "execution_count": 15,
      "outputs": []
    },
    {
      "metadata": {
        "_uuid": "a78c676ec752b9fe400a4965a4e5f55f3bcf5de7"
      },
      "cell_type": "markdown",
      "source": "### 3.2 Define a neural network model with fully connected layers"
    },
    {
      "metadata": {
        "trusted": true,
        "_uuid": "d6c44b43902f8d7225ebc28f151f9c749fb2e97e",
        "collapsed": true
      },
      "cell_type": "code",
      "source": "class Custom_model(object):\n    \n    def __init__(self, layer_dims):\n        \"\"\" \n        The model consists of the input layer (pixels), a number of hidden layers and\n        the output layer (categorical classifier). To create an instance of the model, we set\n        dimensions of its layers and initialize parameters for the hidden/ output layers.\n        Arguments: \n            layer_dims -- list containing the input size and each layer size\n        Returns: \n            parameters -- python dictionary containing parameters \"W1\", \"b1\", ..., \"WL\", \"bL\":\n                Wl -- weight matrix of shape (layer_dims[l], layer_dims[l-1])\n                bl -- bias vector of shape (layer_dims[l], 1) \n        \"\"\"\n        self.layer_dims = layer_dims       # a list with dimensions of all layers\n        self.num_layers = len(layer_dims)  # number of layers (with input layer)\n        self.parameters = {}        # a dictionary with weights and biases of the model\n        # Initializing weights randomly (He initialization) and biases to zeros\n        for l in range(1, len(layer_dims)):\n            self.parameters[f\"W{l}\"] = np.random.randn(layer_dims[l], \n                                                       layer_dims[l-1])*np.sqrt(2./layer_dims[l-1])\n            self.parameters[f\"b{l}\"] = np.zeros((layer_dims[l], 1))\n    \n    # define getters and setters for accessing the model class attributes:        \n    def get_layer_dims(self):\n        return self.layer_dims\n    def get_num_layers(self):\n        return self.num_layers\n    def get_params(self, key):\n        return self.parameters.get(key)\n    def set_params(self, key, value):\n        self.parameters[key] = value\n    \n        \n    def forward_propagation(self, X, keep_prob):\n        \"\"\" \n        Implement forward propagation for the [LINEAR->RELU]*(L-1)->LINEAR->SOFTMAX computation\n        Arguments:\n            X -- data, numpy array of shape (input size, number of examples)\n            keep_prob - probability of keeping a neuron active during drop-out, scalar\n        Returns:\n            AL -- last post-activation value\n            caches -- list of caches containing:\n               every cache of layers w/ReLU activation (there are L-1 of them, indexed from 0 to L-2)\n               the cache of the output layer with Softmax activation (there is one, indexed L-1)\n        \"\"\"\n        caches = []\n        L = self.get_num_layers()-1    # number of layers with weights (hidden + output)\n        A = X                          # set input as the first hidden layer activation\n        # Implement [LINEAR -> RELU]*(L-1). Add \"cache\" to the \"caches\" list.\n        for l in range(1, L):\n            A_prev = A                # initialize activation of the previous layer\n            W, b = self.get_params(f'W{l}'), self.get_params(f'b{l}') # get weights and biases\n            Z = W.dot(A_prev) + b     # linear activation for the hidden layers\n            A = np.maximum(0,Z)       # ReLU activation for the hidden layers\n            if keep_prob == 1:        # if no dropout\n                cache = (A_prev, Z)   # useful during backpropagation\n            elif keep_prob < 1:       # if dropout is used for regularization\n                D = np.random.rand(A.shape[0], A.shape[1])  # initialize matrix D\n                D = D < keep_prob   # convert entries of D to 0/1 (using keep_prob as threshold)\n                A *= D              # shut down some neurons of A\n                A /= keep_prob      # scale the value of neurons that haven't been shutdown\n                cache = (A_prev, Z, D)   # useful during backpropagation\n            caches.append(cache)\n        # Implement LINEAR -> SOFTMAX. Add \"cache\" to the \"caches\" list.\n        W, b = self.get_params(f'W{L}'), self.get_params(f'b{L}')\n        Z = W.dot(A) + b                        # Linear activation of the output layer\n        Z -= np.max(Z, axis=0, keepdims=True)   # Normalize Z to make Softmax stable\n        AL = np.exp(Z)/np.sum(np.exp(Z),axis=0,\n                              keepdims=True) # Softmax activation of the output layer\n        cache = (A, Z)                          # useful during backpropagation\n        caches.append(cache)\n        return AL, caches\n        \n    \n    def compute_cost(self, AL, Y, lambd):\n        \"\"\"\n        Implement the cost function with L2 regularization.\n        Arguments:\n            AL -- post-activation, output of forward propagation,\n                                    of shape (output size, number of examples)\n            Y -- \"true\" labels vector, of shape (output size, number of examples)\n            lambd -- regularization hyperparameter, scalar\n        Returns:\n            cost - value of the regularized loss function\n        \"\"\"\n        m = AL.shape[1]               # number of training examples\n        L = self.get_num_layers()-1   # number of layers with weights (hidden and output)\n        assert(Y.shape == AL.shape)\n        # Compute the cross-entropy part of the cost for Softmax activation function:\n        cross_entropy_cost = -(1./m) * np.sum(np.multiply(Y, np.log(AL)))\n\n        # Compute L2 regularization cost\n        L2_reg_cost = 0\n        if lambd == 0:\n            pass\n        else:\n            for l in range(1, L+1):     # sum of all squared weights\n                L2_reg_cost += (1./m)*(lambd/2)*(np.sum(np.square(self.get_params(f'W{l}'))))\n\n        # Total cost:\n        cost = cross_entropy_cost + L2_reg_cost\n        # To make sure cost's shape is what we expect (e.g. this turns [[17]] into 17).\n        cost = np.squeeze(cost)   \n        return cost\n    \n            \n    def backward_propagation(self, AL, Y, caches, lambd, keep_prob):\n        \"\"\" \n        Implement the backward propagation for the [LINEAR->RELU]*(L-1)->[LINEAR->SOFTMAX]\n        Arguments:\n            AL -- probability vectors for the training examples, output of the forward propagation\n            Y -- true one-hot \"label\" vectors for the training examples\n            caches -- list of caches containing:\n                every cache of forward propagation with \"relu\" \n                                        (there are (L-1) or them, indexes from 0 to L-2)\n                the cache of forward propagation with \"softmax\" (there is one, index L-1)\n            lambd -- lambda, an L2 regularization parameter, scalar\n            keep_prob - probability of keeping a neuron active during drop-out, scalar\n        Returns: grads -- a dictionary with updated gradients\n        \"\"\"\n        L = self.get_num_layers()-1  # number of layers with weights (hidden and output)\n        m = AL.shape[1]              # number of training examples\n        assert(Y.shape == AL.shape)\n        grads = {}                   # a dict for the gradients of the cost function\n\n        # Lth layer (SOFTMAX -> LINEAR) gradients.\n        W = self.get_params(f\"W{L}\") # get weights for the output layer\n        if keep_prob == 1:           # without dropout\n            A_prev, Z = caches[L-1]  # get inputs and linear activations for the output layer\n        elif keep_prob < 1:          # with dropout \n            A_prev, Z, D = caches[L-1]  # get inputs, linear activations and mask\n        dZ = AL - Y                  # Gradient of the cost w.r.t. Z (from calculus)\n        dW = (1./m) * dZ.dot(A_prev.T) + (lambd/m) * W  # Gradient of cost w.r.t. W\n        db = (1./m) * np.sum(dZ, axis=1, keepdims=True) # Gradient of cost w.r.t. b\n        dA_prev = np.dot(W.T,dZ)                        # Gradient of cost w.r.t. dA_prev\n        if keep_prob == 1:           # without dropout\n            pass\n        elif keep_prob < 1:          # with dropout\n            dA_prev *= D   # apply mask D to shutdown the same neurons as during forward prop\n            dA_prev /= keep_prob  # scale the value of neurons that haven't been shut down\n        # Update the grads dictionary for the output layer\n        grads[f\"dA{L-1}\"] = dA_prev\n        grads[f\"dW{L}\"], grads[f\"db{L}\"] = dW, db\n\n        # l-th hidden layer: (RELU -> LINEAR) gradients.\n        for l in reversed(range(1, L)):\n            W = self.get_params(f\"W{l}\") # get weights for the l-th hidden layer\n            if keep_prob == 1:           # without dropout\n                A_prev, Z = caches[l-1]  # get ReLU & linear activations for l-th hidden layer\n            elif keep_prob < 1:          # with dropout\n                A_prev, Z, D = caches[l-1]    # get ReLU & linear activations + mask\n            dZ = np.array(dA_prev, copy=True) # just converting dz to a correct object.\n            dZ[Z <= 0] = 0                    # when z <= 0, set dz to 0 as well. \n            dW = (1./m) * dZ.dot(A_prev.T) + (lambd/m) * W  # Gradient of cost w.r.t. W\n            db = (1./m) * np.sum(dZ, axis=1, keepdims=True) # Gradient of cost w.r.t. b\n            dA_prev = np.dot(W.T,dZ)          # Gradient of cost w.r.t. dA_prev\n            if keep_prob == 1:                # without dropout\n                pass\n            elif keep_prob < 1:               # with dropout\n                dA_prev *= D  # apply mask to shutdown the same neurons as during forward prop\n                dA_prev /= keep_prob # scale the value of neurons that haven't been shut down\n            # Update the grads dictionary for the hidden layers\n            grads[f\"dA{l-1}\"] = dA_prev \n            grads[f\"dW{l}\"], grads[f\"db{l}\"] = dW, db\n        \n        return grads\n    \n        \n    def update_parameters_with_gd(self, grads, lr):\n        \"\"\" \n        Update parameters of the model using method gradient descent\n        Arguments:\n            grads -- python dictionary containing gradients, output of backprop\n            lr -- the learning rate, scalar\n        Returns: \n            updated parameters (weithts and biases of the model)\n        \"\"\"\n        L = self.get_num_layers()-1  # get number of layers with weights (hidden + output)\n        for l in range(1, L+1):\n            self.set_params(f\"W{l}\", self.get_params(f\"W{l}\") - lr * grads[f\"dW{l}\"])\n            self.set_params(f\"b{l}\", self.get_params(f\"b{l}\") - lr * grads[f\"db{l}\"])\n               \n            \n    def initialize_adam(self):\n        \"\"\"\n        Initializes v and s for the Adam optimizer as two python dictionaries with:\n            keys: \"dW1\", \"db1\", ..., \"dWL\", \"dbL\" \n            values: numpy arrays of zeros of the same shape as the corresponding gradients.\n        Returns: \n            v -- python dict that will contain the exponentially weighted average of the gradient.\n            s -- python dict that will contain the exponentially weighted average of the squared gradient.\n        \"\"\"\n        v = {}   \n        s = {}\n        L = self.get_num_layers()-1   # get number of layers with weights (hidden and output)\n        for l in range(1, L+1):\n            v[f\"dW{l}\"] = np.zeros((self.get_params(f\"W{l}\").shape))\n            v[f\"db{l}\"] = np.zeros((self.get_params(f\"b{l}\").shape))\n            s[f\"dW{l}\"] = np.zeros((self.get_params(f\"W{l}\").shape))\n            s[f\"db{l}\"] = np.zeros((self.get_params(f\"b{l}\").shape))    \n        return v,s\n    \n    \n    def update_parameters_with_adam(self, grads, v, s, t, lr, beta1, beta2, epsilon):\n        \"\"\"\n        Update parameters of the model using Adam optimization algorithm\n        Arguments:\n            v -- Adam variable, moving average of the first gradient, python dict\n            s -- Adam variable, moving average of the squared gradient, python dict\n            t -- current timestep (minibatch)\n            lr -- the learning rate, scalar.\n            beta1 -- Exponential decay hyperparameter for the first moment estimates \n            beta2 -- Exponential decay hyperparameter for the second moment estimates \n            epsilon -- hyperparameter preventing division by zero in Adam updates\n        Returns:\n            updated parameters (model attributes)\n            v -- Adam variable, moving average of the first gradient, python dict\n            s -- Adam variable, moving average of the squared gradient, python dict\n        \"\"\"\n        v_corr = {}       # Initializing a bias-corrected first moment\n        s_corr = {}       # Initializing a bias corrected second moment estimate\n        L = self.get_num_layers()-1   # get number of layers with weights (hidden+output)\n        \n        # Perform Adam update on all parameters\n        for l in range(1, L+1):\n            # Moving average of the gradients\n            v[f\"dW{l}\"] = beta1*v[f\"dW{l}\"] + (1-beta1)*grads[f\"dW{l}\"]\n            v[f\"db{l}\"] = beta1*v[f\"db{l}\"] + (1-beta1)*grads[f\"db{l}\"]\n\n            # Compute bias-corrected first moment estimate\n            v_corr[f\"dW{l}\"] = v[f\"dW{l}\"]/(1-beta1**t)\n            v_corr[f\"db{l}\"] = v[f\"db{l}\"]/(1-beta1**t)\n\n            # Moving average of the squared gradients\n            s[f\"dW{l}\"] = beta2*s[f\"dW{l}\"] + (1-beta2)*grads[f\"dW{l}\"]**2\n            s[f\"db{l}\"] = beta2*s[f\"db{l}\"] + (1-beta2)*grads[f\"db{l}\"]**2\n\n            # Compute bias-corrected second raw moment estimate\n            s_corr[f\"dW{l}\"] = s[f\"dW{l}\"]/(1-beta2**t)\n            s_corr[f\"db{l}\"] = s[f\"db{l}\"]/(1-beta2**t)\n\n            # Update parameters\n            temp_W = v_corr[f\"dW{l}\"]/(s_corr[f\"dW{l}\"]**0.5 + epsilon)\n            temp_b = v_corr[f\"db{l}\"]/(s_corr[f\"db{l}\"]**0.5 + epsilon)\n            self.set_params(f\"W{l}\", self.get_params(f\"W{l}\") - lr*temp_W)\n            self.set_params(f\"b{l}\", self.get_params(f\"b{l}\") - lr*temp_b)\n\n        return v, s\n        \n        \n    def predict(self, X):\n        \"\"\" \n        This method is used to predict the results of a L-layer neural network.\n        Arguments:\n            X -- dataset of examples to label, shape (num_pixels, num_examples)\n        Returns:\n            p -- predictions of one-hot labels for X, shape (num_classes, num_examples)\n        \"\"\"\n        m = X.shape[1]          # number of examples\n        # Forward propagation\n        AL, _ = self.forward_propagation(X, keep_prob=1)\n        n = AL.shape[0]         # number of classes\n        p = np.zeros((n, m))    # initialize predictions\n        # convert probabilities AL to one-hot label predictions:\n        for i in range(m):\n            max_i = np.amax(AL[:,i], axis=0)\n            for j in range(n):\n                if AL[j,i] == max_i:\n                    p[j,i] = 1\n                else:\n                    p[j,i] = 0\n        return np.int64(p)\n    \n        \n    def fit(self, X, Y, batch_size, num_epochs, lr, min_lr=1e-6, lambd=0, keep_prob=1,\n            beta1=0.9, beta2=0.999, epsilon=1e-8, optimizer='adam', print_cost=False):\n        \"\"\" \n        Implements an L-layer neural network: [LINEAR->RELU]*(L-1)->LINEAR->SOFTMAX.\n        Arguments:\n            X -- data, numpy array of shape (# pixels, # examples)\n            Y -- true \"label\" vector, of shape (# classes, # examples)\n            batch_size -- the size of a mini batch on which parameters are get updated\n            num_epochs -- number of epochs, i.e. passes through the training set\n            lr -- learning rate of the gradient descent update rule\n            min_lr -- the lower threshold of the learning rate decay\n            lambd -- lambda, the L2 regularization hyperparameter\n            optimizer -- optimization metod [\"gd\"=gradient_descent or \"adam\"]\n            beta1 -- exp decay hyperparameter for the past gradients estimates in 'adam'\n            beta2 -- exp decay hyperparameter for the past squared gradients estimates in 'adam'\n            epsilon -- hyperparameter preventing division by zero in 'adam' updates\n            print_cost -- if True, it prints the cost every # steps\n        Returns:\n            parameters -- parameters learnt by the model. They can then be used to predict.\n        \"\"\"\n        costs = []                # to keep track of the cost\n        lr_0 = lr                 # to fix the initial learning rate before decay\n        t = 0                     # initializing the minibatch counter (for Adam update)\n        cost_prev = 1000          # initialize cost to a big number\n        # Initialize the optimizer\n        if optimizer == \"gd\":\n            pass                  # no initialization required for gradient descent\n        elif optimizer == \"adam\":\n            v, s = self.initialize_adam()\n        # Optimization loop\n        for epoch in range(num_epochs):\n            # Define the random minibatches. Reshuffle the dataset after each epoch\n            minibatches = random_mini_batches(X, Y, batch_size)\n            for minibatch in minibatches:\n                # Select a minibatch\n                (minibatch_X, minibatch_Y) = minibatch\n                # Forward propagation: [LINEAR->RELU]*(L-1) -> LINEAR->SOFTMAX.\n                AL, caches = self.forward_propagation(minibatch_X, keep_prob)\n                # Compute cost.\n                cost = self.compute_cost(AL, minibatch_Y, lambd)\n                # Backward propagation.\n                grads = self.backward_propagation(AL, minibatch_Y, caches, lambd, keep_prob)\n                # Update parameters\n                t = t + 1 # minibatch counter\n                if optimizer == \"gd\":\n                    self.update_parameters_with_gd(grads, lr)\n                elif optimizer == \"adam\":\n                    v, s = self.update_parameters_with_adam(grads, v, s, t, lr, \n                                                            beta1, beta2, epsilon)\n                # Define learning rate decay:\n                if cost > cost_prev and lr > min_lr:\n                    lr = lr / 2   # reduce lr, but not below the min value\n                cost_prev = cost  # save cost value for the next iteration\n                \n            # Print the cost every 20 epoch\n            if print_cost and epoch % 20 == 0:\n                print(f\"Cost after epoch {epoch}: {cost}\")\n            if print_cost and epoch % 1 == 0:    \n                costs.append(cost)\n        # plot the Learning curve\n        if print_cost:\n            plt.plot(np.squeeze(costs))\n            plt.ylabel(\"cost\")\n            plt.xlabel(\"epochs (x 1)\")\n            plt.title(f\"Learning rate = {lr_0} / {lr}\")\n            plt.show()",
      "execution_count": 16,
      "outputs": []
    },
    {
      "metadata": {
        "_uuid": "83a4cde7a4f46ae7a3ac924bdc584a434e425c9c"
      },
      "cell_type": "markdown",
      "source": "### **4. MODEL TRAINING  **"
    },
    {
      "metadata": {
        "trusted": true,
        "_uuid": "8d8743a90ed9f9bf593386bdc41c338987cb2491",
        "collapsed": true
      },
      "cell_type": "code",
      "source": "# Create list to save journal records of the current session\nrecords_list = []",
      "execution_count": 17,
      "outputs": []
    },
    {
      "metadata": {
        "trusted": true,
        "_uuid": "1831854f8d5da69d4f7351b42df457e17dd13cb3"
      },
      "cell_type": "code",
      "source": "# Create an instance of the Custom_model class with 'layer_dims' architecture:\nc_model = Custom_model(layer_dims)\n\n# Set hyperparameters that we want to tune for the custom model:\nlr          = 1e-3    # the learning rate for the gradient descent\nmin_lr      = 1e-8    # the lower threshold of the learning rate decay\noptimizer   = 'adam'\nbatch_size  = m_train  \nnum_epochs  = 300          \nlambd       = 0       # lambda - regularization hyperparameter, scalar\nkeep_prob   = 0.5    # keep_prob - probability of keeping a neuron active during dropout\n\n# Train the model at various hyperparameters settings:\nc_model.fit(X_train, Y_train, batch_size=batch_size, num_epochs=num_epochs,\n            lr=lr, min_lr=min_lr, lambd=lambd, optimizer=optimizer,\n            print_cost=True)       \n\n# Evaluation on the train data:\npredict_train = c_model.predict(X_train)\ncorrect_train = np.argmax(predict_train, axis=0) == np.argmax(Y_train, axis=0)\nc_train_acc = round(np.sum(correct_train)/m_train, 2)\n\n# Evaluation on the validation data:\npredict_val = c_model.predict(X_val)\ncorrect_val = np.argmax(predict_val, axis=0) == np.argmax(Y_val, axis=0)\nc_val_acc = round(np.sum(correct_val)/m_val, 2)\n\nprint(f\"c_model: train accuracy: {c_train_acc * 100}%\")\nprint(f\"c_model: val accuracy = {c_val_acc * 100}%\")\nprint(f'c_model: val error = {round((1 - c_val_acc) * m_val)} examples')\n\n# Update the journal of hyperparameters tuning records\nrecord = {'layer_dims'   : c_model.get_layer_dims(), \n          'acc_train'    : c_train_acc, \n          'acc_val'      : c_val_acc,\n          'val_error'    : round((1 - c_val_acc) * m_val),\n          'batch_size'   : batch_size,\n          'num_epochs'   : num_epochs,\n          'lr'           : lr,\n          'min_lr'       : min_lr,\n          'lambda'       : lambd,\n          'keep_prob'    : keep_prob}\n\nrecords_list.append(record)\njournal = pd.DataFrame(records_list)   # saves records when repeatedly running the current cell\njournal",
      "execution_count": 22,
      "outputs": [
        {
          "output_type": "stream",
          "text": "Cost after epoch 0: 2.3387291205305765\nCost after epoch 20: 0.3984680863255955\nCost after epoch 40: 0.26603308181857244\nCost after epoch 60: 0.20921134167049113\nCost after epoch 80: 0.17118254075006814\nCost after epoch 100: 0.1419138958988666\nCost after epoch 120: 0.1186052346055381\nCost after epoch 140: 0.09977415854553706\nCost after epoch 160: 0.08436915694386227\nCost after epoch 180: 0.07158805673583453\n",
          "name": "stdout"
        },
        {
          "output_type": "display_data",
          "data": {
            "text/plain": "<matplotlib.figure.Figure at 0x7faf89085828>",
            "image/png": "[encoded data removed]"
          },
          "metadata": {}
        },
        {
          "output_type": "stream",
          "text": "c_model: train accuracy: 99.0%\nc_model: val accuracy = 97.0%\nc_model: val error = 126.0 examples\n",
          "name": "stdout"
        },
        {
          "output_type": "execute_result",
          "execution_count": 22,
          "data": {
            "text/plain": "   acc_train  acc_val  batch_size  keep_prob  lambda      layer_dims  \\\n0       1.00     0.97       37800        NaN     0.0  [784, 512, 10]   \n1       0.98     0.96       37800       0.75     0.0  [784, 512, 10]   \n2       0.99     0.97       37800       0.50     0.0  [784, 512, 10]   \n\n   learning_rate     lr        min_lr  num_epochs  val_error  \n0          0.001    NaN  1.000000e-08         300      126.0  \n1            NaN  0.001  1.000000e-08         200      168.0  \n2            NaN  0.001  1.000000e-08         200      126.0  ",
            "text/html": "<div>\n<style scoped>\n    .dataframe tbody tr th:only-of-type {\n        vertical-align: middle;\n    }\n\n    .dataframe tbody tr th {\n        vertical-align: top;\n    }\n\n    .dataframe thead th {\n        text-align: right;\n    }\n</style>\n<table border=\"1\" class=\"dataframe\">\n  <thead>\n    <tr style=\"text-align: right;\">\n      <th></th>\n      <th>acc_train</th>\n      <th>acc_val</th>\n      <th>batch_size</th>\n      <th>keep_prob</th>\n      <th>lambda</th>\n      <th>layer_dims</th>\n      <th>learning_rate</th>\n      <th>lr</th>\n      <th>min_lr</th>\n      <th>num_epochs</th>\n      <th>val_error</th>\n    </tr>\n  </thead>\n  <tbody>\n    <tr>\n      <th>0</th>\n      <td>1.00</td>\n      <td>0.97</td>\n      <td>37800</td>\n      <td>NaN</td>\n      <td>0.0</td>\n      <td>[784, 512, 10]</td>\n      <td>0.001</td>\n      <td>NaN</td>\n      <td>1.000000e-08</td>\n      <td>300</td>\n      <td>126.0</td>\n    </tr>\n    <tr>\n      <th>1</th>\n      <td>0.98</td>\n      <td>0.96</td>\n      <td>37800</td>\n      <td>0.75</td>\n      <td>0.0</td>\n      <td>[784, 512, 10]</td>\n      <td>NaN</td>\n      <td>0.001</td>\n      <td>1.000000e-08</td>\n      <td>200</td>\n      <td>168.0</td>\n    </tr>\n    <tr>\n      <th>2</th>\n      <td>0.99</td>\n      <td>0.97</td>\n      <td>37800</td>\n      <td>0.50</td>\n      <td>0.0</td>\n      <td>[784, 512, 10]</td>\n      <td>NaN</td>\n      <td>0.001</td>\n      <td>1.000000e-08</td>\n      <td>200</td>\n      <td>126.0</td>\n    </tr>\n  </tbody>\n</table>\n</div>"
          },
          "metadata": {}
        }
      ]
    },
    {
      "metadata": {
        "_uuid": "ea90786fab38d2045db67a32cc44389a535572ba"
      },
      "cell_type": "markdown",
      "source": "## Conclusion: we have looked \"under the hood\" of a fully connected network with ReLU activation and dropout regularization for the hidden layers, Softmax activation for the output layer, cross-entropy cost with L2 regularization, and parameters update with Adam optimization. \n\n## Great! We know how it works!"
    },
    {
      "metadata": {
        "_uuid": "18fba4fb764536a58f7dfdca196468e161e3e245"
      },
      "cell_type": "markdown",
      "source": "# -1. Submitting Predictions to Kaggle"
    },
    {
      "metadata": {
        "trusted": true,
        "_uuid": "839c4e62066c4de54fae39f8c74db7964e911d5f"
      },
      "cell_type": "code",
      "source": "# Predict labels on the test dataset with the Custom model:\npredict_test = c_model.predict(X_test)   # one-hot prediction vectors\npredictions = np.argmax(predict_test, axis=0)  # label predictions\n\nsubmission = pd.DataFrame({\"ImageId\": list(range(1,len(predictions)+1)),\n                           \"Label\"  : predictions})\nsubmission.to_csv(\"submission.csv\", index=False, header=True)\nsubmission.head()",
      "execution_count": 19,
      "outputs": [
        {
          "output_type": "execute_result",
          "execution_count": 19,
          "data": {
            "text/plain": "   ImageId  Label\n0        1      2\n1        2      0\n2        3      9\n3        4      9\n4        5      3",
            "text/html": "<div>\n<style scoped>\n    .dataframe tbody tr th:only-of-type {\n        vertical-align: middle;\n    }\n\n    .dataframe tbody tr th {\n        vertical-align: top;\n    }\n\n    .dataframe thead th {\n        text-align: right;\n    }\n</style>\n<table border=\"1\" class=\"dataframe\">\n  <thead>\n    <tr style=\"text-align: right;\">\n      <th></th>\n      <th>ImageId</th>\n      <th>Label</th>\n    </tr>\n  </thead>\n  <tbody>\n    <tr>\n      <th>0</th>\n      <td>1</td>\n      <td>2</td>\n    </tr>\n    <tr>\n      <th>1</th>\n      <td>2</td>\n      <td>0</td>\n    </tr>\n    <tr>\n      <th>2</th>\n      <td>3</td>\n      <td>9</td>\n    </tr>\n    <tr>\n      <th>3</th>\n      <td>4</td>\n      <td>9</td>\n    </tr>\n    <tr>\n      <th>4</th>\n      <td>5</td>\n      <td>3</td>\n    </tr>\n  </tbody>\n</table>\n</div>"
          },
          "metadata": {}
        }
      ]
    }
  ],
  "metadata": {
    "kernelspec": {
      "display_name": "Python 3",
      "language": "python",
      "name": "python3"
    },
    "language_info": {
      "name": "python",
      "version": "3.6.4",
      "mimetype": "text/x-python",
      "codemirror_mode": {
        "name": "ipython",
        "version": 3
      },
      "pygments_lexer": "ipython3",
      "nbconvert_exporter": "python",
      "file_extension": ".py"
    }
  },
  "nbformat": 4,
  "nbformat_minor": 1
}